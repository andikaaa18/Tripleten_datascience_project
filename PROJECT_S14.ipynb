{
 "cells": [
  {
   "cell_type": "markdown",
   "metadata": {},
   "source": [
    "<div style=\"display: flex; align-items: center; justify-content: center; padding: 0px;\">\n",
    "    <div class=\"logo-container\" style=\"flex:0.15;height:100%;\">\n",
    "        <img src=\"https://raw.githubusercontent.com/andikaaa18/Tripleten_datascience_project/main/Assets/logo_tripleten.png\" alt=\"Logo\" style=\"max-height: 155px; width: auto; filter:invert(0%);\">\n",
    "    </div>\n",
    "    <div class=\"title-container\" style=\"flex:0.85;height:100%;\">\n",
    "        <h1 style=\"margin: 0px 0px 0px 0px; font-size: 50px; font-family:Trebuchet MS; font-weight:bold;\">Tripleten Indonesia Project</h1>\n",
    "        <h2 style=\"margin: 0px 0px 0px 0px; font-size: 30px; font-family:Trebuchet MS;\">&mdash; Sprint 13 : Deret Waktu</h2>\n",
    "    </div>\n",
    "</div>\n",
    "\n",
    "<hr style=\"width:95%;height:2px;background-color:black;\" align=\"left\">"
   ]
  },
  {
   "cell_type": "code",
   "execution_count": null,
   "metadata": {},
   "outputs": [],
   "source": []
  }
 ],
 "metadata": {
  "language_info": {
   "name": "python"
  }
 },
 "nbformat": 4,
 "nbformat_minor": 2
}
