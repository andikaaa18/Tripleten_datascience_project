{
 "cells": [
  {
   "cell_type": "markdown",
   "metadata": {},
   "source": [
    "<header style=\"display: flex; align-items: center; justify-content: center; padding: 0px;\">\n",
    "    <div class=\"logo-container\" style=\"flex:0.11;height:100%;width:20%;\">\n",
    "        <img src=\"https://raw.githubusercontent.com/andikaaa18/Tripleten_datascience_project/main/Assets/logo_tripleten.png\" alt=\"Logo\" style=\"max-height: 155px; width: auto;float:left; filter:invert(0%);\">\n",
    "    </div>\n",
    "    <div class=\"title-container\" style=\"flex:0.89;height:60%;\">\n",
    "        <h1 style=\"margin: 0px 0px 0px 10px; font-size: 50px; font-family:Trebuchet MS; font-weight:bold;display: inline-flex;\">Tripleten Indonesia Project</h1>\n",
    "        <h2 style=\"margin: 0px 0px 0px 10px; font-size: 30px; font-family:Trebuchet MS;\">&mdash; Sprint 13 : Deret Waktu</h2>\n",
    "    </div>\n",
    "</header>"
   ]
  },
  {
   "cell_type": "markdown",
   "metadata": {},
   "source": [
    "<div class=\"container\" style=\"display:flex; width:100%;height:150px;background-color:None;\">\n",
    "    <div class=\"subcontainer-1\" style=\"flex:0.11;height:100%;width:20%;\">\n",
    "        <div class=\"logo-frame\" style=\"height:100%;background-color:None;\">\n",
    "            <img src=\"https://raw.githubusercontent.com/andikaaa18/Tripleten_datascience_project/main/Assets/logo_tripleten.png\" style=\"height:100%;float:left; filter:invert(0%);\">\n",
    "        </div>\n",
    "    </div>\n",
    "    <div class=\"subcontainer-2\" style=\"flex:0.89;height:60%;margin-top:2.5%\">\n",
    "        <div class=\"upper-sidebar\" style=\"height:50%;width:100%;background-color:None;align-items:center;display:inline-flex;\">\n",
    "            <div style=\"font-size:50px; font-family:Trebuchet MS; font-weight:bold; text-align:left\">\n",
    "            Tripleten Indonesia Project\n",
    "            </div>\n",
    "        </div>\n",
    "        <div class=\"lower-sidebar\" style=\"height:50%;width:100%;background-color:None;align-items:center;display: inline-flex;\">\n",
    "            <div style=\"font-size:30px; font-family:Trebuchet MS;\">\n",
    "            &mdash; Sprint 13 : Deret Waktu\n",
    "            </div>\n",
    "        </div>\n",
    "    </div>\n",
    "</div>\n",
    "\n",
    "<hr style=\"width:95%;height:2px;background-color:black;\" align=\"left\">"
   ]
  },
  {
   "cell_type": "code",
   "execution_count": null,
   "metadata": {},
   "outputs": [],
   "source": []
  }
 ],
 "metadata": {
  "language_info": {
   "name": "python"
  }
 },
 "nbformat": 4,
 "nbformat_minor": 2
}
