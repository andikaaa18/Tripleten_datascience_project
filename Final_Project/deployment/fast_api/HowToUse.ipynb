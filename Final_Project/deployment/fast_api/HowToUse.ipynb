{
 "cells": [
  {
   "cell_type": "markdown",
   "metadata": {},
   "source": [
    "# **How to Use a Churn Predictive Model via API?**"
   ]
  },
  {
   "cell_type": "code",
   "execution_count": 1,
   "metadata": {},
   "outputs": [],
   "source": [
    "# import library\n",
    "from data_schema import user_data\n",
    "from datetime import date\n",
    "import json\n",
    "import requests"
   ]
  },
  {
   "cell_type": "markdown",
   "metadata": {},
   "source": [
    "Below are the steps to predict churn rate via API:\n",
    "* **STEP-1**: Run the command `uvicorn deployment.fast_api.restful_api:app` in the terminal.\n",
    "* **STEP-2**: Prepare the model input data according to the schema in the `user_data` class."
   ]
  },
  {
   "cell_type": "markdown",
   "metadata": {},
   "source": [
    "## Example-1"
   ]
  },
  {
   "cell_type": "code",
   "execution_count": 2,
   "metadata": {},
   "outputs": [
    {
     "name": "stdout",
     "output_type": "stream",
     "text": [
      "data_json:\n",
      " {\n",
      "  \"gender\": \"Male\",\n",
      "  \"SeniorCitizen\": 0,\n",
      "  \"Partner\": 0,\n",
      "  \"Dependents\": 0,\n",
      "  \"BeginDate\": \"2024-04-08\",\n",
      "  \"EndDate\": \"2024-06-24\",\n",
      "  \"Type\": \"Month-to-month\",\n",
      "  \"PaymentMethod\": \"Bank transfer (automatic)\",\n",
      "  \"PaperlessBilling\": 1,\n",
      "  \"MonthlyCharges\": 25,\n",
      "  \"PhoneService\": \"Single line\",\n",
      "  \"InternetService\": \"No internet\",\n",
      "  \"NetAddon\": null\n",
      "}\n"
     ]
    },
    {
     "data": {
      "text/plain": [
       "{'message': 'API for churn prediction',\n",
       " 'churn_prob': 0.753921389579773,\n",
       " 'threshold': 0.4,\n",
       " 'churn': 1,\n",
       " 'cluster': 3,\n",
       " 'cluster_info': ['Basic category customers. They typically spend around USD 20.25 per month on the services they use.',\n",
       "  'They have low retention. Their retention rate is around 3 months.',\n",
       "  'Generally, they do not use the internet, so their average monthly bill is not very large.',\n",
       "  'Typically, clients in this group are individuals without dependents.']}"
      ]
     },
     "execution_count": 2,
     "metadata": {},
     "output_type": "execute_result"
    }
   ],
   "source": [
    "data = {\n",
    "        'gender': 'Male', 'SeniorCitizen': 0, 'Partner': 0, 'Dependents': 0, 'BeginDate': date(2024, 4, 8), \n",
    "        'EndDate': date.today(), 'Type': 'Month-to-month', 'PaymentMethod': 'Bank transfer (automatic)', \n",
    "        'PaperlessBilling': 1, 'MonthlyCharges': 25, 'PhoneService': 'Single line', 'InternetService': 'No internet', \n",
    "        'NetAddon': None\n",
    "    }\n",
    "json_string = user_data(**data).model_dump_json(indent=2)\n",
    "print(\"data_json:\\n\", json_string)\n",
    "requests.post(\"http://127.0.0.1:8000/api/churn_prediction\", json=json.loads(json_string)).json()"
   ]
  },
  {
   "cell_type": "markdown",
   "metadata": {},
   "source": [
    "## Example-2"
   ]
  },
  {
   "cell_type": "code",
   "execution_count": 4,
   "metadata": {},
   "outputs": [
    {
     "name": "stdout",
     "output_type": "stream",
     "text": [
      "data_json:\n",
      " {\n",
      "  \"gender\": \"Male\",\n",
      "  \"SeniorCitizen\": 0,\n",
      "  \"Partner\": 0,\n",
      "  \"Dependents\": 0,\n",
      "  \"BeginDate\": \"2022-02-10\",\n",
      "  \"EndDate\": \"2024-06-24\",\n",
      "  \"Type\": \"One year\",\n",
      "  \"PaymentMethod\": \"Bank transfer (automatic)\",\n",
      "  \"PaperlessBilling\": 1,\n",
      "  \"MonthlyCharges\": 87.5,\n",
      "  \"PhoneService\": \"Multi line\",\n",
      "  \"InternetService\": \"Fiber optic\",\n",
      "  \"NetAddon\": [\n",
      "    \"DeviceProtection\",\n",
      "    \"StreamingTV\",\n",
      "    \"StreamingMovies\"\n",
      "  ]\n",
      "}\n"
     ]
    },
    {
     "data": {
      "text/plain": [
       "{'message': 'API for churn prediction',\n",
       " 'churn_prob': 0.14260098338127136,\n",
       " 'threshold': 0.4,\n",
       " 'churn': 0,\n",
       " 'cluster': 0,\n",
       " 'cluster_info': ['Premium category customers. They typically spend around USD 94.75 per month on the services they use.',\n",
       "  'Loyal customers. Their retention rate ranges from 2.5 to 3 years.Generally users of fiber optic internet with an additional 2 to 6 additional services.The additional services they prefer are TV and movie streaming.Typically, clients in this group are individuals without dependents.']}"
      ]
     },
     "execution_count": 4,
     "metadata": {},
     "output_type": "execute_result"
    }
   ],
   "source": [
    "data = {\n",
    "        'gender': 'Male', 'SeniorCitizen': 0, 'Partner': 0, 'Dependents': 0, 'BeginDate': date(2022, 2, 10), \n",
    "        'EndDate': date.today(), 'Type': 'One year', 'PaymentMethod': 'Bank transfer (automatic)', \n",
    "        'PaperlessBilling': 1, 'MonthlyCharges': 87.5, 'PhoneService': 'Multi line', 'InternetService': 'Fiber optic', \n",
    "        'NetAddon': ('DeviceProtection', 'StreamingTV', 'StreamingMovies')\n",
    "    }\n",
    "json_string = user_data(**data).model_dump_json(indent=2)\n",
    "print(\"data_json:\\n\", json_string)\n",
    "requests.post(\"http://127.0.0.1:8000/api/churn_prediction\", json=json.loads(json_string)).json()"
   ]
  }
 ],
 "metadata": {
  "kernelspec": {
   "display_name": ".venv",
   "language": "python",
   "name": "python3"
  },
  "language_info": {
   "codemirror_mode": {
    "name": "ipython",
    "version": 3
   },
   "file_extension": ".py",
   "mimetype": "text/x-python",
   "name": "python",
   "nbconvert_exporter": "python",
   "pygments_lexer": "ipython3",
   "version": "3.10.7"
  }
 },
 "nbformat": 4,
 "nbformat_minor": 2
}
